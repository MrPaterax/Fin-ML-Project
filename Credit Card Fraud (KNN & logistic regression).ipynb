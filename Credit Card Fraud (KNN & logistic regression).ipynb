{
 "cells": [
  {
   "cell_type": "markdown",
   "id": "1fb99df7",
   "metadata": {},
   "source": [
    "# Credit Card Fraud"
   ]
  },
  {
   "cell_type": "markdown",
   "id": "bf125660",
   "metadata": {},
   "source": [
    "## The Dataset "
   ]
  },
  {
   "cell_type": "markdown",
   "id": "5c61df39",
   "metadata": {},
   "source": [
    "### Description"
   ]
  },
  {
   "cell_type": "markdown",
   "id": "6ae9760d",
   "metadata": {},
   "source": [
    "- This dataset includes 7 features from an unamed institution, 6 which are independent variables and 1 which is the target variable of whether a transaction is fradulent or not."
   ]
  },
  {
   "cell_type": "code",
   "execution_count": 1,
   "id": "2fef53d3",
   "metadata": {},
   "outputs": [],
   "source": [
    "import pandas as pd\n",
    "import numpy as np\n",
    "import matplotlib.pyplot as plt\n",
    "import seaborn as sns"
   ]
  },
  {
   "cell_type": "code",
   "execution_count": 3,
   "id": "02aa5b3a",
   "metadata": {},
   "outputs": [],
   "source": [
    "cc_df = pd.read_csv(\"card_transdata.csv\")"
   ]
  },
  {
   "cell_type": "code",
   "execution_count": null,
   "id": "85271890",
   "metadata": {},
   "outputs": [],
   "source": []
  }
 ],
 "metadata": {
  "kernelspec": {
   "display_name": "Python 3 (ipykernel)",
   "language": "python",
   "name": "python3"
  },
  "language_info": {
   "codemirror_mode": {
    "name": "ipython",
    "version": 3
   },
   "file_extension": ".py",
   "mimetype": "text/x-python",
   "name": "python",
   "nbconvert_exporter": "python",
   "pygments_lexer": "ipython3",
   "version": "3.9.13"
  }
 },
 "nbformat": 4,
 "nbformat_minor": 5
}

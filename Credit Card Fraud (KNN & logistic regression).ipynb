{
 "cells": [
  {
   "cell_type": "markdown",
   "id": "d6441fd5",
   "metadata": {},
   "source": [
    "# Credit Card Fraud"
   ]
  },
  {
   "cell_type": "markdown",
   "id": "e8159dd7",
   "metadata": {},
   "source": [
    "## The Dataset "
   ]
  },
  {
   "cell_type": "markdown",
   "id": "ad888135",
   "metadata": {},
   "source": [
    "### Description"
   ]
  },
  {
   "cell_type": "markdown",
   "id": "1b53c63a",
   "metadata": {},
   "source": [
    "- This dataset includes 7 features from an unamed institution, the target variable is a binary, whether a transaction is fradulent or not."
   ]
  },
  {
   "cell_type": "code",
   "execution_count": 2,
   "id": "e6a04ef6",
   "metadata": {},
   "outputs": [],
   "source": [
    "import pandas as pd\n",
    "import numpy as np\n",
    "import matplotlib.pyplot as plt\n",
    "import seaborn as sns"
   ]
  },
  {
   "cell_type": "code",
   "execution_count": 3,
   "id": "d9701921",
   "metadata": {},
   "outputs": [],
   "source": [
    "cc_df = pd.read_csv(\"card_transdata.csv\")"
   ]
  },
  {
   "cell_type": "markdown",
   "id": "13a0e036",
   "metadata": {},
   "source": [
    "## Exploratory Data Analysis "
   ]
  },
  {
   "cell_type": "code",
   "execution_count": 8,
   "id": "07448e1e",
   "metadata": {},
   "outputs": [
    {
     "name": "stdout",
     "output_type": "stream",
     "text": [
      "distance_from_home\n",
      "distance_from_last_transaction\n",
      "ratio_to_median_purchase_price\n",
      "repeat_retailer\n",
      "used_chip\n",
      "used_pin_number\n",
      "online_order\n",
      "fraud\n",
      "Amount of data we're working with: 1000000\n"
     ]
    }
   ],
   "source": [
    "#column names of the features we're working with \n",
    "for col in cc_df.columns:\n",
    "    print(col)\n",
    "    \n",
    "print(\"Amount of data we're working with:\", cc_df.shape[0])"
   ]
  },
  {
   "cell_type": "code",
   "execution_count": 9,
   "id": "8ff3a901",
   "metadata": {},
   "outputs": [
    {
     "name": "stdout",
     "output_type": "stream",
     "text": [
      "False\n"
     ]
    }
   ],
   "source": [
    "#Checking for null values\n",
    "print(cc_df.isnull().values.any())"
   ]
  },
  {
   "cell_type": "code",
   "execution_count": null,
   "id": "80529d04",
   "metadata": {},
   "outputs": [],
   "source": [
    "fig, axes = plt.subplots(nrows=2, ncols=2)\n",
    "fig.tight_layout(pad=3.0)\n",
    "cc_df[\"repeat_retailer\"].plot.bar(ax=axes[0,0],x='repeat retailer')\n",
    "cc_df[\"used_chip\"].plot.bar(bax=axes[0,1],x='used chip')\n",
    "cc_df[\"used_pin_number\"].plot.bar(ax=axes[1,0],x='used pin number')\n",
    "cc_df[\"online_order\"].plot.bar(ax=axes[1,1],x='online_order')"
   ]
  },
  {
   "cell_type": "code",
   "execution_count": null,
   "id": "c1fc6058",
   "metadata": {},
   "outputs": [],
   "source": []
  }
 ],
 "metadata": {
  "kernelspec": {
   "display_name": "Python 3 (ipykernel)",
   "language": "python",
   "name": "python3"
  },
  "language_info": {
   "codemirror_mode": {
    "name": "ipython",
    "version": 3
   },
   "file_extension": ".py",
   "mimetype": "text/x-python",
   "name": "python",
   "nbconvert_exporter": "python",
   "pygments_lexer": "ipython3",
   "version": "3.9.13"
  }
 },
 "nbformat": 4,
 "nbformat_minor": 5
}
